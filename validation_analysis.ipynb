{
 "cells": [
  {
   "cell_type": "code",
   "execution_count": null,
   "metadata": {},
   "outputs": [],
   "source": [
    "import pandas as pd\n",
    "import pickle as pkl\n",
    "import numpy as np\n",
    "import seaborn as sns\n",
    "\n",
    "from matplotlib import pyplot as plt\n",
    "from os import listdir, path\n",
    "from scipy.stats import pearsonr, spearmanr"
   ]
  },
  {
   "cell_type": "code",
   "execution_count": null,
   "metadata": {},
   "outputs": [],
   "source": [
    "attribute_map = {\n",
    "    'Valence': 'a photo of something good',\n",
    "    'Arousal': 'a photo of something arousing',\n",
    "    'Beauty': 'a photo of something beautiful',\n",
    "}\n",
    "\n",
    "opposite_map = {\n",
    "    'Valence': 'a photo of something bad',\n",
    "    'Arousal': 'a photo of something dull',\n",
    "    'Beauty': 'a photo of something ugly',\n",
    "}"
   ]
  },
  {
   "cell_type": "code",
   "execution_count": null,
   "metadata": {},
   "outputs": [],
   "source": [
    "# See https://osf.io/6pnd7 for the OASIS data\n",
    "oasis_data = pd.read_csv('OASIS.csv')\n",
    "oai_model_similarities = [i for i in listdir('oasis_similarities') if i.startswith('openai')]"
   ]
  },
  {
   "cell_type": "code",
   "execution_count": null,
   "metadata": {},
   "outputs": [],
   "source": [
    "# See https://github.com/aenneb/OASIS-beauty for the OASIS beauty data\n",
    "beauty_data = pd.read_csv('beauty_means.csv')\n",
    "beauty_data.head()"
   ]
  },
  {
   "cell_type": "code",
   "execution_count": null,
   "metadata": {},
   "outputs": [],
   "source": [
    "oasis_data['Theme'] = oasis_data['Theme'].apply(lambda x: x.strip() + '.jpg')\n",
    "oasis_data['Beauty_mean'] = beauty_data['beauty_mean']\n",
    "oasis_data['Beauty_men'] = beauty_data['men_beauty_mean']\n",
    "oasis_data['Beauty_women'] = beauty_data['women_beauty_mean']\n",
    "oasis_data.index = oasis_data['Theme']\n",
    "oasis_data.head()"
   ]
  },
  {
   "cell_type": "code",
   "execution_count": null,
   "metadata": {},
   "outputs": [],
   "source": [
    "sim_dict = {\n",
    "    'Valence': [],\n",
    "    'Arousal': [],\n",
    "    'Beauty': [],\n",
    "}\n",
    "\n",
    "for sim_file in oai_model_similarities:\n",
    "    try:\n",
    "        with open(f'oasis_similarities/{sim_file}', 'rb') as f:\n",
    "            data = pd.DataFrame(pkl.load(f))\n",
    "    except:\n",
    "        continue\n",
    "\n",
    "    # Sort data according to index of oasis_data\n",
    "    data = data.loc[oasis_data.index]\n",
    "\n",
    "    for key in attribute_map.keys():\n",
    "        diff = data[attribute_map[key]] - data[opposite_map[key]]\n",
    "        binary = diff.to_list()\n",
    "        ground_truth = oasis_data[f'{key}_mean'].to_list()\n",
    "        pearson, spearman = pearsonr(binary, ground_truth), spearmanr(binary, ground_truth)\n",
    "        \n",
    "        sim_dict[key].append(round(spearman[0],2))\n",
    "\n",
    "sim_df = pd.DataFrame(sim_dict, index=['CLIP ' + i.split('_')[1].split('_')[0] for i in oai_model_similarities])\n",
    "\n",
    "print(sim_df)"
   ]
  }
 ],
 "metadata": {
  "kernelspec": {
   "display_name": "deep_learning",
   "language": "python",
   "name": "python3"
  },
  "language_info": {
   "codemirror_mode": {
    "name": "ipython",
    "version": 3
   },
   "file_extension": ".py",
   "mimetype": "text/x-python",
   "name": "python",
   "nbconvert_exporter": "python",
   "pygments_lexer": "ipython3",
   "version": "3.11.4"
  },
  "orig_nbformat": 4
 },
 "nbformat": 4,
 "nbformat_minor": 2
}
