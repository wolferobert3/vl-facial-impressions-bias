{
  "cells": [
    {
      "cell_type": "code",
      "execution_count": null,
      "metadata": {
        "id": "IiFd1ZJ0ascT"
      },
      "outputs": [],
      "source": [
        "! pip install diffusers transformers accelerate --upgrade"
      ]
    },
    {
      "cell_type": "code",
      "execution_count": null,
      "metadata": {
        "id": "VQzDrbliwP3Q"
      },
      "outputs": [],
      "source": [
        "from diffusers import AutoPipelineForText2Image\n",
        "from google.colab import drive\n",
        "from os import path\n",
        "\n",
        "import random\n",
        "import torch\n",
        "import numpy as np"
      ]
    },
    {
      "cell_type": "code",
      "execution_count": null,
      "metadata": {
        "id": "ovuiTcJXvpJa"
      },
      "outputs": [],
      "source": [
        "# Mount Google Drive\n",
        "drive.mount('/content/drive')"
      ]
    },
    {
      "cell_type": "code",
      "execution_count": null,
      "metadata": {
        "id": "F8vgFOyCvnQf"
      },
      "outputs": [],
      "source": [
        "# Set random seeds to 42 for reproducibility\n",
        "np.random.seed(42)\n",
        "torch.manual_seed(42)\n",
        "random.seed(42)"
      ]
    },
    {
      "cell_type": "code",
      "execution_count": null,
      "metadata": {
        "id": "qu1aGcwvvky7"
      },
      "outputs": [],
      "source": [
        "PROMPT_PATH = f'/content/drive/My Drive/CLIP_Facial_Impressions/stimuli/attributes.txt'\n",
        "OPPOSITE_PATH = f'/content/drive/My Drive/CLIP_Facial_Impressions/stimuli/attributes_opposites.txt'\n",
        "SAVE_PATH  = f'/content/drive/My Drive/CLIP_Facial_Impressions/sdxl_images'"
      ]
    },
    {
      "cell_type": "code",
      "execution_count": null,
      "metadata": {
        "id": "95eIMgDCw1ya"
      },
      "outputs": [],
      "source": [
        "prompt_attributes = {line.split(':')[0]:line.split(':')[-1].replace('a photo of','a realistic portrait photo of') for line in open(PROMPT_PATH).read().split('\\n') if line}\n",
        "opposite_prompts = {line.split(':')[0]:line.split(':')[-1].replace('a photo of','a realistic portrait photo of') for line in open(OPPOSITE_PATH).read().split('\\n') if line}\n"
      ]
    },
    {
      "cell_type": "code",
      "execution_count": null,
      "metadata": {
        "id": "iFUCNik7bEEt"
      },
      "outputs": [],
      "source": [
        "pipe = AutoPipelineForText2Image.from_pretrained(\"stabilityai/sdxl-turbo\", torch_dtype=torch.float16, variant=\"fp16\")\n",
        "pipe.to(\"cuda\")"
      ]
    },
    {
      "cell_type": "code",
      "execution_count": null,
      "metadata": {
        "id": "ywDPO18zzy7x"
      },
      "outputs": [],
      "source": [
        "seeds = [random.randint(0,100000) for _ in range(100)]\n",
        "seedstr = '\\n'.join([str(i) for i in seeds])\n",
        "with open(f'/content/drive/My Drive/CLIP_Facial_Impressions/sdxl_seeds.txt', 'w') as f:\n",
        "  f.write(seedstr)"
      ]
    },
    {
      "cell_type": "code",
      "execution_count": null,
      "metadata": {
        "id": "nbY4SiTudJgK"
      },
      "outputs": [],
      "source": [
        "for attribute in list(prompt_attributes.keys())[-3:]:\n",
        "  print(attribute)\n",
        "\n",
        "  positive_prompt = prompt_attributes[attribute]\n",
        "  negative_prompt = opposite_prompts[attribute]\n",
        "\n",
        "  for i in range(25):\n",
        "    image = pipe(prompt=positive_prompt, num_inference_steps=4, guidance_scale=0.0, seed=seeds[i]).images[0]\n",
        "    image.save(path.join(SAVE_PATH,f'{attribute}_positive_{i}.png'))\n",
        "\n",
        "  for i in range(25):\n",
        "    image = pipe(prompt=negative_prompt, num_inference_steps=4, guidance_scale=0.0, seed=seeds[i]).images[0]\n",
        "    image.save(path.join(SAVE_PATH,f'{attribute}_negative_{i}.png'))"
      ]
    }
  ],
  "metadata": {
    "accelerator": "GPU",
    "colab": {
      "gpuType": "T4",
      "provenance": []
    },
    "kernelspec": {
      "display_name": "Python 3",
      "name": "python3"
    },
    "language_info": {
      "name": "python"
    }
  },
  "nbformat": 4,
  "nbformat_minor": 0
}
